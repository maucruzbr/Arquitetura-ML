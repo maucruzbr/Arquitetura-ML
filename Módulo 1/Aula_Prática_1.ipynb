{
  "cells": [
    {
      "cell_type": "markdown",
      "metadata": {
        "id": "view-in-github",
        "colab_type": "text"
      },
      "source": [
        "<a href=\"https://colab.research.google.com/github/maucruzbr/Arquitetura-ML/blob/Mod1-Intro-Deeplearning/M%C3%B3dulo%201/Aula_Pr%C3%A1tica_1.ipynb\" target=\"_parent\"><img src=\"https://colab.research.google.com/assets/colab-badge.svg\" alt=\"Open In Colab\"/></a>"
      ]
    },
    {
      "cell_type": "markdown",
      "id": "9087a73f",
      "metadata": {
        "id": "9087a73f"
      },
      "source": [
        "  <h3>Ferramentas a serem utilizadas:</h3>\n",
        " \n",
        " Keras (keras.io);<br>\n",
        " Tensorflow;<br>\n",
        " Scikit-learn;<br>\n",
        " Numpy;<br>\n",
        " Pandas;<br>\n",
        " Matplotlib.\n",
        "\n",
        " <h3> Replicação da aula teórica sobre reconhecimento de dígitos: </h3>"
      ]
    },
    {
      "cell_type": "code",
      "source": [],
      "metadata": {
        "id": "5HbFfL4xh8TF"
      },
      "id": "5HbFfL4xh8TF",
      "execution_count": null,
      "outputs": []
    },
    {
      "cell_type": "code",
      "source": [
        "import numpy as np #importa biblioteca para manipulação de matrizes\n",
        "from matplotlib import pyplot as plt #importa biblioteca para criação de gráficos\n",
        "\n",
        "#início das importações de classes do Keras (modelos de Deep Learning )\n",
        "from keras.datasets import mnist            #importa dataset mnist\n",
        "from keras.models import Sequential         #importa um modelo sequencial\n",
        "from keras.layers import Dense              #importa camadas totalmente conectadas\n",
        "from keras.layers import Dropout            #importa estrutura de dropout\n",
        "from keras.utils import np_utils             #importa biblioteca de utilidades do Keras"
      ],
      "metadata": {
        "id": "kq8bxbBYbmSZ"
      },
      "id": "kq8bxbBYbmSZ",
      "execution_count": 1,
      "outputs": []
    },
    {
      "cell_type": "code",
      "source": [
        "(X_train, y_train), (X_test, y_test) = mnist.load_data() #importa o dataset Mnist da biblioteca Keras\n",
        "print(X_train.shape) #imprime o formato do vetor\n",
        "\n",
        "first_image = X_train[1000] #obtém a imagem de treino do índice 100 do vetor\n",
        "#realiza manipulação dos dados da imagem\n",
        "first_image = np.array(first_image, dtype='float')\n",
        "pixels = first_image.reshape((28, 28))\n",
        "#exibe a imagem do vetor\n",
        "plt.imshow(pixels, cmap='gray')\n",
        "plt.show()\n",
        "\n",
        "print(y_train[1000]) #imprime a classe da imagem do treino do índice de 100"
      ],
      "metadata": {
        "id": "keDcoHWXfiEU",
        "outputId": "a8ab1616-536b-4970-8ba1-7b31cdb22ea1",
        "colab": {
          "base_uri": "https://localhost:8080/",
          "height": 334
        }
      },
      "id": "keDcoHWXfiEU",
      "execution_count": 2,
      "outputs": [
        {
          "output_type": "stream",
          "name": "stdout",
          "text": [
            "Downloading data from https://storage.googleapis.com/tensorflow/tf-keras-datasets/mnist.npz\n",
            "11490434/11490434 [==============================] - 0s 0us/step\n",
            "(60000, 28, 28)\n"
          ]
        },
        {
          "output_type": "display_data",
          "data": {
            "text/plain": [
              "<Figure size 432x288 with 1 Axes>"
            ],
            "image/png": "[encoded data removed]"
          },
          "metadata": {
            "needs_background": "light"
          }
        },
        {
          "output_type": "stream",
          "name": "stdout",
          "text": [
            "0\n"
          ]
        }
      ]
    }
  ],
  "metadata": {
    "kernelspec": {
      "display_name": "Python 3 (ipykernel)",
      "language": "python",
      "name": "python3"
    },
    "language_info": {
      "codemirror_mode": {
        "name": "ipython",
        "version": 3
      },
      "file_extension": ".py",
      "mimetype": "text/x-python",
      "name": "python",
      "nbconvert_exporter": "python",
      "pygments_lexer": "ipython3",
      "version": "3.9.12"
    },
    "colab": {
      "provenance": [],
      "include_colab_link": true
    }
  },
  "nbformat": 4,
  "nbformat_minor": 5
}